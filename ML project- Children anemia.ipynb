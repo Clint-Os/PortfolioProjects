{
 "cells": [
  {
   "cell_type": "code",
   "execution_count": 1,
   "id": "eefdc113",
   "metadata": {},
   "outputs": [],
   "source": [
    "%matplotlib inline\n",
    "import matplotlib.pyplot as plt\n",
    "import pandas as pd\n",
    "import numpy as np"
   ]
  },
  {
   "cell_type": "code",
   "execution_count": 56,
   "id": "04e65231",
   "metadata": {},
   "outputs": [
    {
     "data": {
      "text/html": [
       "<div>\n",
       "<style scoped>\n",
       "    .dataframe tbody tr th:only-of-type {\n",
       "        vertical-align: middle;\n",
       "    }\n",
       "\n",
       "    .dataframe tbody tr th {\n",
       "        vertical-align: top;\n",
       "    }\n",
       "\n",
       "    .dataframe thead th {\n",
       "        text-align: right;\n",
       "    }\n",
       "</style>\n",
       "<table border=\"1\" class=\"dataframe\">\n",
       "  <thead>\n",
       "    <tr style=\"text-align: right;\">\n",
       "      <th></th>\n",
       "      <th>Age in 5-year groups</th>\n",
       "      <th>Residence</th>\n",
       "      <th>Literacy level</th>\n",
       "      <th>Wealth index</th>\n",
       "      <th>Births in last five years</th>\n",
       "      <th>Respondent age at 1st birth</th>\n",
       "      <th>Hb level altitude and smoking (g/dl - 1 decimal)</th>\n",
       "      <th>Mosquito net</th>\n",
       "      <th>Smokes</th>\n",
       "      <th>Fever in last two weeks</th>\n",
       "      <th>Hb level altitude (g/dl - 1 decimal)</th>\n",
       "      <th>Anemia level</th>\n",
       "      <th>Iron supplement</th>\n",
       "    </tr>\n",
       "  </thead>\n",
       "  <tbody>\n",
       "    <tr>\n",
       "      <th>0</th>\n",
       "      <td>35-39</td>\n",
       "      <td>Urban</td>\n",
       "      <td>Secondary</td>\n",
       "      <td>Richest</td>\n",
       "      <td>2</td>\n",
       "      <td>32</td>\n",
       "      <td>121</td>\n",
       "      <td>Yes</td>\n",
       "      <td>No</td>\n",
       "      <td>No</td>\n",
       "      <td>102</td>\n",
       "      <td>Mild</td>\n",
       "      <td>Yes</td>\n",
       "    </tr>\n",
       "    <tr>\n",
       "      <th>1</th>\n",
       "      <td>25-29</td>\n",
       "      <td>Urban</td>\n",
       "      <td>Tertiary</td>\n",
       "      <td>Richest</td>\n",
       "      <td>1</td>\n",
       "      <td>24</td>\n",
       "      <td>116</td>\n",
       "      <td>Yes</td>\n",
       "      <td>No</td>\n",
       "      <td>No</td>\n",
       "      <td>109</td>\n",
       "      <td>Mild</td>\n",
       "      <td>No</td>\n",
       "    </tr>\n",
       "    <tr>\n",
       "      <th>2</th>\n",
       "      <td>20-24</td>\n",
       "      <td>Urban</td>\n",
       "      <td>Tertiary</td>\n",
       "      <td>Richest</td>\n",
       "      <td>2</td>\n",
       "      <td>19</td>\n",
       "      <td>118</td>\n",
       "      <td>Yes</td>\n",
       "      <td>No</td>\n",
       "      <td>No</td>\n",
       "      <td>96</td>\n",
       "      <td>Moderate</td>\n",
       "      <td>Yes</td>\n",
       "    </tr>\n",
       "    <tr>\n",
       "      <th>3</th>\n",
       "      <td>25-29</td>\n",
       "      <td>Urban</td>\n",
       "      <td>Secondary</td>\n",
       "      <td>Richest</td>\n",
       "      <td>2</td>\n",
       "      <td>22</td>\n",
       "      <td>95</td>\n",
       "      <td>Yes</td>\n",
       "      <td>No</td>\n",
       "      <td>No</td>\n",
       "      <td>96</td>\n",
       "      <td>Moderate</td>\n",
       "      <td>Yes</td>\n",
       "    </tr>\n",
       "    <tr>\n",
       "      <th>4</th>\n",
       "      <td>25-29</td>\n",
       "      <td>Urban</td>\n",
       "      <td>Secondary</td>\n",
       "      <td>Richer</td>\n",
       "      <td>1</td>\n",
       "      <td>23</td>\n",
       "      <td>109</td>\n",
       "      <td>Yes</td>\n",
       "      <td>No</td>\n",
       "      <td>No</td>\n",
       "      <td>96</td>\n",
       "      <td>Moderate</td>\n",
       "      <td>No</td>\n",
       "    </tr>\n",
       "    <tr>\n",
       "      <th>...</th>\n",
       "      <td>...</td>\n",
       "      <td>...</td>\n",
       "      <td>...</td>\n",
       "      <td>...</td>\n",
       "      <td>...</td>\n",
       "      <td>...</td>\n",
       "      <td>...</td>\n",
       "      <td>...</td>\n",
       "      <td>...</td>\n",
       "      <td>...</td>\n",
       "      <td>...</td>\n",
       "      <td>...</td>\n",
       "      <td>...</td>\n",
       "    </tr>\n",
       "    <tr>\n",
       "      <th>4237</th>\n",
       "      <td>40-44</td>\n",
       "      <td>Rural</td>\n",
       "      <td>No education</td>\n",
       "      <td>Poorer</td>\n",
       "      <td>1</td>\n",
       "      <td>23</td>\n",
       "      <td>134</td>\n",
       "      <td>No</td>\n",
       "      <td>No</td>\n",
       "      <td>No</td>\n",
       "      <td>104</td>\n",
       "      <td>Mild</td>\n",
       "      <td>No</td>\n",
       "    </tr>\n",
       "    <tr>\n",
       "      <th>4238</th>\n",
       "      <td>20-24</td>\n",
       "      <td>Rural</td>\n",
       "      <td>Secondary</td>\n",
       "      <td>Richer</td>\n",
       "      <td>1</td>\n",
       "      <td>23</td>\n",
       "      <td>109</td>\n",
       "      <td>Yes</td>\n",
       "      <td>No</td>\n",
       "      <td>No</td>\n",
       "      <td>97</td>\n",
       "      <td>Moderate</td>\n",
       "      <td>No</td>\n",
       "    </tr>\n",
       "    <tr>\n",
       "      <th>4239</th>\n",
       "      <td>25-29</td>\n",
       "      <td>Rural</td>\n",
       "      <td>Tertiary</td>\n",
       "      <td>Richest</td>\n",
       "      <td>1</td>\n",
       "      <td>28</td>\n",
       "      <td>110</td>\n",
       "      <td>Yes</td>\n",
       "      <td>No</td>\n",
       "      <td>No</td>\n",
       "      <td>101</td>\n",
       "      <td>Mild</td>\n",
       "      <td>Yes</td>\n",
       "    </tr>\n",
       "    <tr>\n",
       "      <th>4240</th>\n",
       "      <td>35-39</td>\n",
       "      <td>Rural</td>\n",
       "      <td>Secondary</td>\n",
       "      <td>Richer</td>\n",
       "      <td>2</td>\n",
       "      <td>19</td>\n",
       "      <td>120</td>\n",
       "      <td>Yes</td>\n",
       "      <td>No</td>\n",
       "      <td>No</td>\n",
       "      <td>108</td>\n",
       "      <td>Mild</td>\n",
       "      <td>Yes</td>\n",
       "    </tr>\n",
       "    <tr>\n",
       "      <th>4241</th>\n",
       "      <td>20-24</td>\n",
       "      <td>Rural</td>\n",
       "      <td>Secondary</td>\n",
       "      <td>Richer</td>\n",
       "      <td>1</td>\n",
       "      <td>21</td>\n",
       "      <td>123</td>\n",
       "      <td>Yes</td>\n",
       "      <td>No</td>\n",
       "      <td>No</td>\n",
       "      <td>75</td>\n",
       "      <td>Moderate</td>\n",
       "      <td>Yes</td>\n",
       "    </tr>\n",
       "  </tbody>\n",
       "</table>\n",
       "<p>4242 rows × 13 columns</p>\n",
       "</div>"
      ],
      "text/plain": [
       "     Age in 5-year groups Residence Literacy level Wealth index  \\\n",
       "0                   35-39     Urban      Secondary      Richest   \n",
       "1                   25-29     Urban       Tertiary      Richest   \n",
       "2                   20-24     Urban       Tertiary      Richest   \n",
       "3                   25-29     Urban      Secondary      Richest   \n",
       "4                   25-29     Urban      Secondary       Richer   \n",
       "...                   ...       ...            ...          ...   \n",
       "4237                40-44     Rural   No education       Poorer   \n",
       "4238                20-24     Rural      Secondary       Richer   \n",
       "4239                25-29     Rural       Tertiary      Richest   \n",
       "4240                35-39     Rural      Secondary       Richer   \n",
       "4241                20-24     Rural      Secondary       Richer   \n",
       "\n",
       "      Births in last five years  Respondent age at 1st birth  \\\n",
       "0                             2                           32   \n",
       "1                             1                           24   \n",
       "2                             2                           19   \n",
       "3                             2                           22   \n",
       "4                             1                           23   \n",
       "...                         ...                          ...   \n",
       "4237                          1                           23   \n",
       "4238                          1                           23   \n",
       "4239                          1                           28   \n",
       "4240                          2                           19   \n",
       "4241                          1                           21   \n",
       "\n",
       "      Hb level altitude and smoking (g/dl - 1 decimal) Mosquito net Smokes   \\\n",
       "0                                                  121          Yes      No   \n",
       "1                                                  116          Yes      No   \n",
       "2                                                  118          Yes      No   \n",
       "3                                                   95          Yes      No   \n",
       "4                                                  109          Yes      No   \n",
       "...                                                ...          ...     ...   \n",
       "4237                                               134           No      No   \n",
       "4238                                               109          Yes      No   \n",
       "4239                                               110          Yes      No   \n",
       "4240                                               120          Yes      No   \n",
       "4241                                               123          Yes      No   \n",
       "\n",
       "     Fever in last two weeks  Hb level altitude (g/dl - 1 decimal)  \\\n",
       "0                         No                                   102   \n",
       "1                         No                                   109   \n",
       "2                         No                                    96   \n",
       "3                         No                                    96   \n",
       "4                         No                                    96   \n",
       "...                      ...                                   ...   \n",
       "4237                      No                                   104   \n",
       "4238                      No                                    97   \n",
       "4239                      No                                   101   \n",
       "4240                      No                                   108   \n",
       "4241                      No                                    75   \n",
       "\n",
       "     Anemia level Iron supplement  \n",
       "0            Mild             Yes  \n",
       "1            Mild              No  \n",
       "2        Moderate             Yes  \n",
       "3        Moderate             Yes  \n",
       "4        Moderate              No  \n",
       "...           ...             ...  \n",
       "4237         Mild              No  \n",
       "4238     Moderate              No  \n",
       "4239         Mild             Yes  \n",
       "4240         Mild             Yes  \n",
       "4241     Moderate             Yes  \n",
       "\n",
       "[4242 rows x 13 columns]"
      ]
     },
     "execution_count": 56,
     "metadata": {},
     "output_type": "execute_result"
    }
   ],
   "source": [
    "anemia = pd.read_csv(r\"C:\\Users\\user\\Downloads\\children anemia.csv\\children anemia.csv\")\n",
    "anemia"
   ]
  },
  {
   "cell_type": "code",
   "execution_count": 57,
   "id": "745b061a",
   "metadata": {},
   "outputs": [
    {
     "name": "stdout",
     "output_type": "stream",
     "text": [
      "<class 'pandas.core.frame.DataFrame'>\n",
      "RangeIndex: 4242 entries, 0 to 4241\n",
      "Data columns (total 13 columns):\n",
      " #   Column                                            Non-Null Count  Dtype \n",
      "---  ------                                            --------------  ----- \n",
      " 0   Age in 5-year groups                              4242 non-null   object\n",
      " 1   Residence                                         4242 non-null   object\n",
      " 2   Literacy level                                    4242 non-null   object\n",
      " 3   Wealth index                                      4242 non-null   object\n",
      " 4   Births in last five years                         4242 non-null   int64 \n",
      " 5   Respondent age at 1st birth                       4242 non-null   int64 \n",
      " 6   Hb level altitude and smoking (g/dl - 1 decimal)  4242 non-null   int64 \n",
      " 7   Mosquito net                                      4242 non-null   object\n",
      " 8   Smokes                                            4242 non-null   object\n",
      " 9   Fever in last two weeks                           4242 non-null   object\n",
      " 10  Hb level altitude (g/dl - 1 decimal)              4242 non-null   int64 \n",
      " 11  Anemia level                                      4242 non-null   object\n",
      " 12  Iron supplement                                   4242 non-null   object\n",
      "dtypes: int64(4), object(9)\n",
      "memory usage: 431.0+ KB\n"
     ]
    }
   ],
   "source": [
    "anemia.info()"
   ]
  },
  {
   "cell_type": "code",
   "execution_count": 58,
   "id": "4b5b497a",
   "metadata": {},
   "outputs": [
    {
     "data": {
      "text/plain": [
       "Anemia level\n",
       "Moderate    2404\n",
       "Mild        1636\n",
       "Severe       202\n",
       "Name: count, dtype: int64"
      ]
     },
     "execution_count": 58,
     "metadata": {},
     "output_type": "execute_result"
    }
   ],
   "source": [
    "anemia[\"Anemia level\"].value_counts()\n",
    "\n",
    "#find out  categories existing in each column"
   ]
  },
  {
   "cell_type": "code",
   "execution_count": 39,
   "id": "593f12e9",
   "metadata": {},
   "outputs": [
    {
     "data": {
      "text/html": [
       "<div>\n",
       "<style scoped>\n",
       "    .dataframe tbody tr th:only-of-type {\n",
       "        vertical-align: middle;\n",
       "    }\n",
       "\n",
       "    .dataframe tbody tr th {\n",
       "        vertical-align: top;\n",
       "    }\n",
       "\n",
       "    .dataframe thead th {\n",
       "        text-align: right;\n",
       "    }\n",
       "</style>\n",
       "<table border=\"1\" class=\"dataframe\">\n",
       "  <thead>\n",
       "    <tr style=\"text-align: right;\">\n",
       "      <th></th>\n",
       "      <th>Births in last five years</th>\n",
       "      <th>Respondent age at 1st birth</th>\n",
       "      <th>Hb level altitude and smoking (g/dl - 1 decimal)</th>\n",
       "      <th>Hb level altitude (g/dl - 1 decimal)</th>\n",
       "    </tr>\n",
       "  </thead>\n",
       "  <tbody>\n",
       "    <tr>\n",
       "      <th>count</th>\n",
       "      <td>4242.000000</td>\n",
       "      <td>4242.000000</td>\n",
       "      <td>4242.000000</td>\n",
       "      <td>4242.000000</td>\n",
       "    </tr>\n",
       "    <tr>\n",
       "      <th>mean</th>\n",
       "      <td>1.557049</td>\n",
       "      <td>19.743046</td>\n",
       "      <td>113.091702</td>\n",
       "      <td>93.498586</td>\n",
       "    </tr>\n",
       "    <tr>\n",
       "      <th>std</th>\n",
       "      <td>0.618944</td>\n",
       "      <td>4.333153</td>\n",
       "      <td>15.647958</td>\n",
       "      <td>12.355961</td>\n",
       "    </tr>\n",
       "    <tr>\n",
       "      <th>min</th>\n",
       "      <td>1.000000</td>\n",
       "      <td>12.000000</td>\n",
       "      <td>20.000000</td>\n",
       "      <td>29.000000</td>\n",
       "    </tr>\n",
       "    <tr>\n",
       "      <th>25%</th>\n",
       "      <td>1.000000</td>\n",
       "      <td>17.000000</td>\n",
       "      <td>104.000000</td>\n",
       "      <td>86.000000</td>\n",
       "    </tr>\n",
       "    <tr>\n",
       "      <th>50%</th>\n",
       "      <td>1.000000</td>\n",
       "      <td>19.000000</td>\n",
       "      <td>113.000000</td>\n",
       "      <td>96.000000</td>\n",
       "    </tr>\n",
       "    <tr>\n",
       "      <th>75%</th>\n",
       "      <td>2.000000</td>\n",
       "      <td>22.000000</td>\n",
       "      <td>124.000000</td>\n",
       "      <td>103.000000</td>\n",
       "    </tr>\n",
       "    <tr>\n",
       "      <th>max</th>\n",
       "      <td>4.000000</td>\n",
       "      <td>43.000000</td>\n",
       "      <td>166.000000</td>\n",
       "      <td>109.000000</td>\n",
       "    </tr>\n",
       "  </tbody>\n",
       "</table>\n",
       "</div>"
      ],
      "text/plain": [
       "       Births in last five years  Respondent age at 1st birth  \\\n",
       "count                4242.000000                  4242.000000   \n",
       "mean                    1.557049                    19.743046   \n",
       "std                     0.618944                     4.333153   \n",
       "min                     1.000000                    12.000000   \n",
       "25%                     1.000000                    17.000000   \n",
       "50%                     1.000000                    19.000000   \n",
       "75%                     2.000000                    22.000000   \n",
       "max                     4.000000                    43.000000   \n",
       "\n",
       "       Hb level altitude and smoking (g/dl - 1 decimal)  \\\n",
       "count                                       4242.000000   \n",
       "mean                                         113.091702   \n",
       "std                                           15.647958   \n",
       "min                                           20.000000   \n",
       "25%                                          104.000000   \n",
       "50%                                          113.000000   \n",
       "75%                                          124.000000   \n",
       "max                                          166.000000   \n",
       "\n",
       "       Hb level altitude (g/dl - 1 decimal)  \n",
       "count                           4242.000000  \n",
       "mean                              93.498586  \n",
       "std                               12.355961  \n",
       "min                               29.000000  \n",
       "25%                               86.000000  \n",
       "50%                               96.000000  \n",
       "75%                              103.000000  \n",
       "max                              109.000000  "
      ]
     },
     "execution_count": 39,
     "metadata": {},
     "output_type": "execute_result"
    }
   ],
   "source": [
    "anemia.describe()"
   ]
  },
  {
   "cell_type": "code",
   "execution_count": 59,
   "id": "14c8c313",
   "metadata": {},
   "outputs": [
    {
     "data": {
      "image/png": "[encoded data removed]",
      "text/plain": [
       "<Figure size 2000x1500 with 4 Axes>"
      ]
     },
     "metadata": {},
     "output_type": "display_data"
    }
   ],
   "source": [
    "#plot a histogram for each numerical value\n",
    "anemia.hist(bins=25, figsize=(20,15))\n",
    "plt.show()"
   ]
  },
  {
   "cell_type": "code",
   "execution_count": 60,
   "id": "367b92bb",
   "metadata": {},
   "outputs": [],
   "source": [
    "#create a test set using scikit\n",
    "from sklearn.model_selection import train_test_split"
   ]
  },
  {
   "cell_type": "code",
   "execution_count": 61,
   "id": "d8bf2296",
   "metadata": {},
   "outputs": [],
   "source": [
    "train_set, test_set = train_test_split(anemia, test_size=0.2, random_state=42)"
   ]
  },
  {
   "cell_type": "code",
   "execution_count": 62,
   "id": "3727ca9d",
   "metadata": {},
   "outputs": [],
   "source": [
    "#stratified sampling based on age groups - you can do based on any column\n",
    "from sklearn.model_selection import StratifiedShuffleSplit\n",
    "split = StratifiedShuffleSplit(n_splits=1, test_size=0.2, random_state=42)\n",
    "for train_index, test_index in split.split(anemia, anemia[\"Age in 5-year groups\"]):\n",
    "    strat_train_set = anemia.loc[train_index]\n",
    "    strat_test_set = anemia.loc[test_index]\n",
    "    "
   ]
  },
  {
   "cell_type": "code",
   "execution_count": 63,
   "id": "a90f806a",
   "metadata": {},
   "outputs": [
    {
     "data": {
      "text/plain": [
       "Age in 5-year groups\n",
       "25-29    0.266196\n",
       "30-34    0.221437\n",
       "20-24    0.180212\n",
       "35-39    0.179034\n",
       "40-44    0.078916\n",
       "15-19    0.043581\n",
       "45-49    0.030624\n",
       "Name: count, dtype: float64"
      ]
     },
     "execution_count": 63,
     "metadata": {},
     "output_type": "execute_result"
    }
   ],
   "source": [
    "strat_test_set[\"Age in 5-year groups\"].value_counts()/len(strat_test_set)"
   ]
  },
  {
   "cell_type": "code",
   "execution_count": 64,
   "id": "282f1c64",
   "metadata": {},
   "outputs": [],
   "source": [
    "#return data to original state\n",
    "for set_ in (strat_train_set, strat_test_set):\n",
    "    set_.drop(\"Age in 5-year groups\", axis=1, inplace=True)"
   ]
  },
  {
   "cell_type": "code",
   "execution_count": 65,
   "id": "947eca39",
   "metadata": {},
   "outputs": [],
   "source": [
    "#create a copy for visualization without interfering with the original set\n",
    "\n",
    "anemia = strat_train_set.copy()"
   ]
  },
  {
   "cell_type": "code",
   "execution_count": 66,
   "id": "a3c523c3",
   "metadata": {},
   "outputs": [
    {
     "data": {
      "text/plain": [
       "<Axes: xlabel='Births in last five years', ylabel='Hb level altitude (g/dl - 1 decimal)'>"
      ]
     },
     "execution_count": 66,
     "metadata": {},
     "output_type": "execute_result"
    },
    {
     "data": {
      "image/png": "[encoded data removed]",
      "text/plain": [
       "<Figure size 640x480 with 1 Axes>"
      ]
     },
     "metadata": {},
     "output_type": "display_data"
    }
   ],
   "source": [
    "anemia.plot(kind=\"scatter\", x='Births in last five years', y='Hb level altitude (g/dl - 1 decimal)', alpha=.2)\n",
    "\n",
    "#underfitting error witnessed\n",
    "#proper axes would be level of education vis a vis seeking treatment options, convert both to int type\n",
    "#apply OneHotEncoder "
   ]
  },
  {
   "cell_type": "code",
   "execution_count": 67,
   "id": "81c3ac84",
   "metadata": {},
   "outputs": [
    {
     "name": "stdout",
     "output_type": "stream",
     "text": [
      "<class 'pandas.core.frame.DataFrame'>\n",
      "Index: 3393 entries, 3354 to 3552\n",
      "Data columns (total 12 columns):\n",
      " #   Column                                            Non-Null Count  Dtype \n",
      "---  ------                                            --------------  ----- \n",
      " 0   Residence                                         3393 non-null   object\n",
      " 1   Literacy level                                    3393 non-null   object\n",
      " 2   Wealth index                                      3393 non-null   object\n",
      " 3   Births in last five years                         3393 non-null   int64 \n",
      " 4   Respondent age at 1st birth                       3393 non-null   int64 \n",
      " 5   Hb level altitude and smoking (g/dl - 1 decimal)  3393 non-null   int64 \n",
      " 6   Mosquito net                                      3393 non-null   object\n",
      " 7   Smokes                                            3393 non-null   object\n",
      " 8   Fever in last two weeks                           3393 non-null   object\n",
      " 9   Hb level altitude (g/dl - 1 decimal)              3393 non-null   int64 \n",
      " 10  Anemia level                                      3393 non-null   object\n",
      " 11  Iron supplement                                   3393 non-null   object\n",
      "dtypes: int64(4), object(8)\n",
      "memory usage: 344.6+ KB\n"
     ]
    }
   ],
   "source": [
    "anemia.info()"
   ]
  },
  {
   "cell_type": "code",
   "execution_count": 70,
   "id": "1e04eb9b",
   "metadata": {},
   "outputs": [
    {
     "data": {
      "text/plain": [
       "array([[0., 0., 0., 0., 0., 1., 0., 0.],\n",
       "       [0., 0., 0., 1., 0., 0., 0., 0.],\n",
       "       [0., 0., 0., 0., 0., 0., 0., 1.],\n",
       "       [1., 0., 0., 0., 0., 0., 0., 0.],\n",
       "       [0., 0., 0., 0., 1., 0., 0., 0.],\n",
       "       [0., 0., 0., 0., 0., 0., 1., 0.],\n",
       "       [0., 1., 0., 0., 0., 0., 0., 0.],\n",
       "       [0., 0., 1., 0., 0., 0., 0., 0.]])"
      ]
     },
     "execution_count": 70,
     "metadata": {},
     "output_type": "execute_result"
    }
   ],
   "source": [
    "from sklearn.preprocessing import OneHotEncoder\n",
    "anemia_cat = np.array([\"Residence\",\"Literacy level\",\"Wealth index\",\" Anemia level\",\"Mosquito net\",\"Smokes\",\" Fever in last two weeks\",\"Iron supplement\"])\n",
    "cat_encoder = OneHotEncoder()\n",
    "anemia_cat_reshaped = anemia_cat.reshape(-1, 1) #single sample reshape as required by OneHotEncorder\n",
    "anemia_cat_1hot = cat_encoder.fit_transform(anemia_cat_reshaped)\n",
    "anemia_cat_1hot.toarray()"
   ]
  },
  {
   "cell_type": "code",
   "execution_count": 71,
   "id": "9b12e095",
   "metadata": {},
   "outputs": [
    {
     "data": {
      "text/plain": [
       "[array([' Anemia level', ' Fever in last two weeks', 'Iron supplement',\n",
       "        'Literacy level', 'Mosquito net', 'Residence', 'Smokes',\n",
       "        'Wealth index'], dtype='<U24')]"
      ]
     },
     "execution_count": 71,
     "metadata": {},
     "output_type": "execute_result"
    }
   ],
   "source": [
    "#getting the list of categories using the encoder's categories_ instance variable\n",
    "cat_encoder.categories_"
   ]
  },
  {
   "cell_type": "code",
   "execution_count": 80,
   "id": "b87d2d50",
   "metadata": {},
   "outputs": [],
   "source": [
    "anemia = anemia.drop(\"Residence\", axis=1)\n",
    "#dropped the column since \"rural\" could not be converted to numerical value despite running OneHotEncoder,\n",
    "# and neither does it add any real value to the data, considering wealth index is included"
   ]
  },
  {
   "cell_type": "code",
   "execution_count": 95,
   "id": "dd1f3995",
   "metadata": {},
   "outputs": [],
   "source": [
    "anemia_num = ['Births in last five years','Respondent age at 1st birth','Hb level altitude and smoking (g/dl - 1 decimal)','Hb level altitude (g/dl - 1 decimal)']\n"
   ]
  },
  {
   "cell_type": "code",
   "execution_count": 98,
   "id": "7a66807d",
   "metadata": {},
   "outputs": [
    {
     "name": "stdout",
     "output_type": "stream",
     "text": [
      "Column names in DataFrame 'anemia': Index(['Literacy level', 'Wealth index', 'Births in last five years',\n",
      "       'Respondent age at 1st birth',\n",
      "       'Hb level altitude and smoking (g/dl - 1 decimal)', 'Mosquito net',\n",
      "       'Smokes ', 'Fever in last two weeks',\n",
      "       'Hb level altitude (g/dl - 1 decimal)', 'Anemia level',\n",
      "       'Iron supplement'],\n",
      "      dtype='object')\n",
      "Numerical attributes: ['Births in last five years', 'Respondent age at 1st birth', 'Hb level altitude and smoking (g/dl - 1 decimal)', 'Hb level altitude (g/dl - 1 decimal)']\n",
      "Categorical attributes: ['Anemia level', 'Fever in last two weeks', 'Iron supplement', 'Literacy level', 'Mosquito net', 'Smokes', 'Wealth index']\n"
     ]
    }
   ],
   "source": [
    "print(\"Column names in DataFrame 'anemia':\", anemia.columns)\n",
    "print(\"Numerical attributes:\", anemia_num)\n",
    "print(\"Categorical attributes:\", cat_attribs)"
   ]
  },
  {
   "cell_type": "code",
   "execution_count": 99,
   "id": "df35aa0b",
   "metadata": {},
   "outputs": [
    {
     "ename": "ValueError",
     "evalue": "A given column is not a column of the dataframe",
     "output_type": "error",
     "traceback": [
      "\u001b[1;31m---------------------------------------------------------------------------\u001b[0m",
      "\u001b[1;31mKeyError\u001b[0m                                  Traceback (most recent call last)",
      "File \u001b[1;32m~\\anaconda3\\Lib\\site-packages\\pandas\\core\\indexes\\base.py:3653\u001b[0m, in \u001b[0;36mIndex.get_loc\u001b[1;34m(self, key)\u001b[0m\n\u001b[0;32m   3652\u001b[0m \u001b[38;5;28;01mtry\u001b[39;00m:\n\u001b[1;32m-> 3653\u001b[0m     \u001b[38;5;28;01mreturn\u001b[39;00m \u001b[38;5;28mself\u001b[39m\u001b[38;5;241m.\u001b[39m_engine\u001b[38;5;241m.\u001b[39mget_loc(casted_key)\n\u001b[0;32m   3654\u001b[0m \u001b[38;5;28;01mexcept\u001b[39;00m \u001b[38;5;167;01mKeyError\u001b[39;00m \u001b[38;5;28;01mas\u001b[39;00m err:\n",
      "File \u001b[1;32m~\\anaconda3\\Lib\\site-packages\\pandas\\_libs\\index.pyx:147\u001b[0m, in \u001b[0;36mpandas._libs.index.IndexEngine.get_loc\u001b[1;34m()\u001b[0m\n",
      "File \u001b[1;32m~\\anaconda3\\Lib\\site-packages\\pandas\\_libs\\index.pyx:176\u001b[0m, in \u001b[0;36mpandas._libs.index.IndexEngine.get_loc\u001b[1;34m()\u001b[0m\n",
      "File \u001b[1;32mpandas\\_libs\\hashtable_class_helper.pxi:7080\u001b[0m, in \u001b[0;36mpandas._libs.hashtable.PyObjectHashTable.get_item\u001b[1;34m()\u001b[0m\n",
      "File \u001b[1;32mpandas\\_libs\\hashtable_class_helper.pxi:7088\u001b[0m, in \u001b[0;36mpandas._libs.hashtable.PyObjectHashTable.get_item\u001b[1;34m()\u001b[0m\n",
      "\u001b[1;31mKeyError\u001b[0m: 'Smokes'",
      "\nThe above exception was the direct cause of the following exception:\n",
      "\u001b[1;31mKeyError\u001b[0m                                  Traceback (most recent call last)",
      "File \u001b[1;32m~\\anaconda3\\Lib\\site-packages\\sklearn\\utils\\__init__.py:447\u001b[0m, in \u001b[0;36m_get_column_indices\u001b[1;34m(X, key)\u001b[0m\n\u001b[0;32m    446\u001b[0m \u001b[38;5;28;01mfor\u001b[39;00m col \u001b[38;5;129;01min\u001b[39;00m columns:\n\u001b[1;32m--> 447\u001b[0m     col_idx \u001b[38;5;241m=\u001b[39m all_columns\u001b[38;5;241m.\u001b[39mget_loc(col)\n\u001b[0;32m    448\u001b[0m     \u001b[38;5;28;01mif\u001b[39;00m \u001b[38;5;129;01mnot\u001b[39;00m \u001b[38;5;28misinstance\u001b[39m(col_idx, numbers\u001b[38;5;241m.\u001b[39mIntegral):\n",
      "File \u001b[1;32m~\\anaconda3\\Lib\\site-packages\\pandas\\core\\indexes\\base.py:3655\u001b[0m, in \u001b[0;36mIndex.get_loc\u001b[1;34m(self, key)\u001b[0m\n\u001b[0;32m   3654\u001b[0m \u001b[38;5;28;01mexcept\u001b[39;00m \u001b[38;5;167;01mKeyError\u001b[39;00m \u001b[38;5;28;01mas\u001b[39;00m err:\n\u001b[1;32m-> 3655\u001b[0m     \u001b[38;5;28;01mraise\u001b[39;00m \u001b[38;5;167;01mKeyError\u001b[39;00m(key) \u001b[38;5;28;01mfrom\u001b[39;00m \u001b[38;5;21;01merr\u001b[39;00m\n\u001b[0;32m   3656\u001b[0m \u001b[38;5;28;01mexcept\u001b[39;00m \u001b[38;5;167;01mTypeError\u001b[39;00m:\n\u001b[0;32m   3657\u001b[0m     \u001b[38;5;66;03m# If we have a listlike key, _check_indexing_error will raise\u001b[39;00m\n\u001b[0;32m   3658\u001b[0m     \u001b[38;5;66;03m#  InvalidIndexError. Otherwise we fall through and re-raise\u001b[39;00m\n\u001b[0;32m   3659\u001b[0m     \u001b[38;5;66;03m#  the TypeError.\u001b[39;00m\n",
      "\u001b[1;31mKeyError\u001b[0m: 'Smokes'",
      "\nThe above exception was the direct cause of the following exception:\n",
      "\u001b[1;31mValueError\u001b[0m                                Traceback (most recent call last)",
      "Cell \u001b[1;32mIn[99], line 18\u001b[0m\n\u001b[0;32m     10\u001b[0m num_pipeline \u001b[38;5;241m=\u001b[39m Pipeline([\n\u001b[0;32m     11\u001b[0m     (\u001b[38;5;124m'\u001b[39m\u001b[38;5;124mstd_scaler\u001b[39m\u001b[38;5;124m'\u001b[39m, StandardScaler()),\n\u001b[0;32m     12\u001b[0m ])\n\u001b[0;32m     14\u001b[0m full_pipeline \u001b[38;5;241m=\u001b[39m ColumnTransformer([\n\u001b[0;32m     15\u001b[0m     (\u001b[38;5;124m\"\u001b[39m\u001b[38;5;124mnum\u001b[39m\u001b[38;5;124m\"\u001b[39m,num_pipeline,num_attribs),\n\u001b[0;32m     16\u001b[0m     (\u001b[38;5;124m\"\u001b[39m\u001b[38;5;124mcat\u001b[39m\u001b[38;5;124m\"\u001b[39m, OneHotEncoder(), cat_attribs),\n\u001b[0;32m     17\u001b[0m ])\n\u001b[1;32m---> 18\u001b[0m anemia_prepared \u001b[38;5;241m=\u001b[39m full_pipeline\u001b[38;5;241m.\u001b[39mfit_transform(anemia)\n",
      "File \u001b[1;32m~\\anaconda3\\Lib\\site-packages\\sklearn\\utils\\_set_output.py:140\u001b[0m, in \u001b[0;36m_wrap_method_output.<locals>.wrapped\u001b[1;34m(self, X, *args, **kwargs)\u001b[0m\n\u001b[0;32m    138\u001b[0m \u001b[38;5;129m@wraps\u001b[39m(f)\n\u001b[0;32m    139\u001b[0m \u001b[38;5;28;01mdef\u001b[39;00m \u001b[38;5;21mwrapped\u001b[39m(\u001b[38;5;28mself\u001b[39m, X, \u001b[38;5;241m*\u001b[39margs, \u001b[38;5;241m*\u001b[39m\u001b[38;5;241m*\u001b[39mkwargs):\n\u001b[1;32m--> 140\u001b[0m     data_to_wrap \u001b[38;5;241m=\u001b[39m f(\u001b[38;5;28mself\u001b[39m, X, \u001b[38;5;241m*\u001b[39margs, \u001b[38;5;241m*\u001b[39m\u001b[38;5;241m*\u001b[39mkwargs)\n\u001b[0;32m    141\u001b[0m     \u001b[38;5;28;01mif\u001b[39;00m \u001b[38;5;28misinstance\u001b[39m(data_to_wrap, \u001b[38;5;28mtuple\u001b[39m):\n\u001b[0;32m    142\u001b[0m         \u001b[38;5;66;03m# only wrap the first output for cross decomposition\u001b[39;00m\n\u001b[0;32m    143\u001b[0m         return_tuple \u001b[38;5;241m=\u001b[39m (\n\u001b[0;32m    144\u001b[0m             _wrap_data_with_container(method, data_to_wrap[\u001b[38;5;241m0\u001b[39m], X, \u001b[38;5;28mself\u001b[39m),\n\u001b[0;32m    145\u001b[0m             \u001b[38;5;241m*\u001b[39mdata_to_wrap[\u001b[38;5;241m1\u001b[39m:],\n\u001b[0;32m    146\u001b[0m         )\n",
      "File \u001b[1;32m~\\anaconda3\\Lib\\site-packages\\sklearn\\base.py:1151\u001b[0m, in \u001b[0;36m_fit_context.<locals>.decorator.<locals>.wrapper\u001b[1;34m(estimator, *args, **kwargs)\u001b[0m\n\u001b[0;32m   1144\u001b[0m     estimator\u001b[38;5;241m.\u001b[39m_validate_params()\n\u001b[0;32m   1146\u001b[0m \u001b[38;5;28;01mwith\u001b[39;00m config_context(\n\u001b[0;32m   1147\u001b[0m     skip_parameter_validation\u001b[38;5;241m=\u001b[39m(\n\u001b[0;32m   1148\u001b[0m         prefer_skip_nested_validation \u001b[38;5;129;01mor\u001b[39;00m global_skip_validation\n\u001b[0;32m   1149\u001b[0m     )\n\u001b[0;32m   1150\u001b[0m ):\n\u001b[1;32m-> 1151\u001b[0m     \u001b[38;5;28;01mreturn\u001b[39;00m fit_method(estimator, \u001b[38;5;241m*\u001b[39margs, \u001b[38;5;241m*\u001b[39m\u001b[38;5;241m*\u001b[39mkwargs)\n",
      "File \u001b[1;32m~\\anaconda3\\Lib\\site-packages\\sklearn\\compose\\_column_transformer.py:740\u001b[0m, in \u001b[0;36mColumnTransformer.fit_transform\u001b[1;34m(self, X, y)\u001b[0m\n\u001b[0;32m    738\u001b[0m \u001b[38;5;28mself\u001b[39m\u001b[38;5;241m.\u001b[39m_check_n_features(X, reset\u001b[38;5;241m=\u001b[39m\u001b[38;5;28;01mTrue\u001b[39;00m)\n\u001b[0;32m    739\u001b[0m \u001b[38;5;28mself\u001b[39m\u001b[38;5;241m.\u001b[39m_validate_transformers()\n\u001b[1;32m--> 740\u001b[0m \u001b[38;5;28mself\u001b[39m\u001b[38;5;241m.\u001b[39m_validate_column_callables(X)\n\u001b[0;32m    741\u001b[0m \u001b[38;5;28mself\u001b[39m\u001b[38;5;241m.\u001b[39m_validate_remainder(X)\n\u001b[0;32m    743\u001b[0m result \u001b[38;5;241m=\u001b[39m \u001b[38;5;28mself\u001b[39m\u001b[38;5;241m.\u001b[39m_fit_transform(X, y, _fit_transform_one)\n",
      "File \u001b[1;32m~\\anaconda3\\Lib\\site-packages\\sklearn\\compose\\_column_transformer.py:448\u001b[0m, in \u001b[0;36mColumnTransformer._validate_column_callables\u001b[1;34m(self, X)\u001b[0m\n\u001b[0;32m    446\u001b[0m         columns \u001b[38;5;241m=\u001b[39m columns(X)\n\u001b[0;32m    447\u001b[0m     all_columns\u001b[38;5;241m.\u001b[39mappend(columns)\n\u001b[1;32m--> 448\u001b[0m     transformer_to_input_indices[name] \u001b[38;5;241m=\u001b[39m _get_column_indices(X, columns)\n\u001b[0;32m    450\u001b[0m \u001b[38;5;28mself\u001b[39m\u001b[38;5;241m.\u001b[39m_columns \u001b[38;5;241m=\u001b[39m all_columns\n\u001b[0;32m    451\u001b[0m \u001b[38;5;28mself\u001b[39m\u001b[38;5;241m.\u001b[39m_transformer_to_input_indices \u001b[38;5;241m=\u001b[39m transformer_to_input_indices\n",
      "File \u001b[1;32m~\\anaconda3\\Lib\\site-packages\\sklearn\\utils\\__init__.py:455\u001b[0m, in \u001b[0;36m_get_column_indices\u001b[1;34m(X, key)\u001b[0m\n\u001b[0;32m    452\u001b[0m             column_indices\u001b[38;5;241m.\u001b[39mappend(col_idx)\n\u001b[0;32m    454\u001b[0m     \u001b[38;5;28;01mexcept\u001b[39;00m \u001b[38;5;167;01mKeyError\u001b[39;00m \u001b[38;5;28;01mas\u001b[39;00m e:\n\u001b[1;32m--> 455\u001b[0m         \u001b[38;5;28;01mraise\u001b[39;00m \u001b[38;5;167;01mValueError\u001b[39;00m(\u001b[38;5;124m\"\u001b[39m\u001b[38;5;124mA given column is not a column of the dataframe\u001b[39m\u001b[38;5;124m\"\u001b[39m) \u001b[38;5;28;01mfrom\u001b[39;00m \u001b[38;5;21;01me\u001b[39;00m\n\u001b[0;32m    457\u001b[0m     \u001b[38;5;28;01mreturn\u001b[39;00m column_indices\n\u001b[0;32m    458\u001b[0m \u001b[38;5;28;01melse\u001b[39;00m:\n",
      "\u001b[1;31mValueError\u001b[0m: A given column is not a column of the dataframe"
     ]
    }
   ],
   "source": [
    "#apply transformation to all columns using ColumnTransformer \n",
    "from sklearn.compose import ColumnTransformer\n",
    "from sklearn.pipeline import Pipeline\n",
    "from sklearn.preprocessing import StandardScaler, OneHotEncoder\n",
    "\n",
    "num_attribs = list(anemia_num)\n",
    "\n",
    "cat_attribs = ['Anemia level','Fever in last two weeks', 'Iron supplement', 'Literacy level', 'Mosquito net', 'Smokes', 'Wealth index']\n",
    "\n",
    "num_pipeline = Pipeline([\n",
    "    ('std_scaler', StandardScaler()),\n",
    "])\n",
    "\n",
    "full_pipeline = ColumnTransformer([\n",
    "    (\"num\",num_pipeline,num_attribs),\n",
    "    (\"cat\", OneHotEncoder(), cat_attribs),\n",
    "])\n",
    "anemia_prepared = full_pipeline.fit_transform(anemia)"
   ]
  },
  {
   "cell_type": "code",
   "execution_count": 94,
   "id": "12271712",
   "metadata": {},
   "outputs": [
    {
     "name": "stdout",
     "output_type": "stream",
     "text": [
      "Column names in DataFrame 'anemia': Index(['Literacy level', 'Wealth index', 'Births in last five years',\n",
      "       'Respondent age at 1st birth',\n",
      "       'Hb level altitude and smoking (g/dl - 1 decimal)', 'Mosquito net',\n",
      "       'Smokes ', 'Fever in last two weeks',\n",
      "       'Hb level altitude (g/dl - 1 decimal)', 'Anemia level',\n",
      "       'Iron supplement'],\n",
      "      dtype='object')\n",
      "Numerical attributes: ['Births in last five years', 'Respondent age at 1st birth', 'Hb level altitude and smoking (g/dl - 1 decimal)', 'Hb level altitude (g/dl - 1 decimal)']\n",
      "Categorical attributes: ['Anemia level', ' Fever in last two weeks', 'Iron supplement', 'Literacy level', 'Mosquito net', 'Smokes', 'Wealth index']\n"
     ]
    }
   ],
   "source": [
    "print(\"Column names in DataFrame 'anemia':\", anemia.columns)\n",
    "print(\"Numerical attributes:\", anemia_num)\n",
    "print(\"Categorical attributes:\", cat_attribs)"
   ]
  },
  {
   "cell_type": "code",
   "execution_count": null,
   "id": "344150a4",
   "metadata": {},
   "outputs": [],
   "source": []
  },
  {
   "cell_type": "code",
   "execution_count": null,
   "id": "d3ed7eb5",
   "metadata": {
    "scrolled": true
   },
   "outputs": [],
   "source": []
  },
  {
   "cell_type": "code",
   "execution_count": null,
   "id": "569a4f4d",
   "metadata": {},
   "outputs": [],
   "source": []
  },
  {
   "cell_type": "code",
   "execution_count": null,
   "id": "a13ff44f",
   "metadata": {},
   "outputs": [],
   "source": []
  },
  {
   "cell_type": "code",
   "execution_count": null,
   "id": "4722694c",
   "metadata": {},
   "outputs": [],
   "source": []
  },
  {
   "cell_type": "code",
   "execution_count": null,
   "id": "a2e54e5c",
   "metadata": {},
   "outputs": [],
   "source": []
  },
  {
   "cell_type": "code",
   "execution_count": null,
   "id": "96a1d35c",
   "metadata": {},
   "outputs": [],
   "source": []
  }
 ],
 "metadata": {
  "kernelspec": {
   "display_name": "Python 3 (ipykernel)",
   "language": "python",
   "name": "python3"
  },
  "language_info": {
   "codemirror_mode": {
    "name": "ipython",
    "version": 3
   },
   "file_extension": ".py",
   "mimetype": "text/x-python",
   "name": "python",
   "nbconvert_exporter": "python",
   "pygments_lexer": "ipython3",
   "version": "3.11.5"
  }
 },
 "nbformat": 4,
 "nbformat_minor": 5
}
